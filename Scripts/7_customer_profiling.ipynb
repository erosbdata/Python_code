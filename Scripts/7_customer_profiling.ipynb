{
 "cells": [
  {
   "cell_type": "code",
   "execution_count": 1,
   "id": "42a53130",
   "metadata": {},
   "outputs": [],
   "source": [
    "import pandas as pd\n",
    "import numpy as np\n",
    "import os\n",
    "import seaborn as sns\n",
    "import scipy\n",
    "import matplotlib.pyplot as plt"
   ]
  },
  {
   "cell_type": "code",
   "execution_count": 2,
   "id": "fd492843",
   "metadata": {},
   "outputs": [],
   "source": [
    "path = r'C:\\Users\\erosb\\08-2023 Instacart Basket Analysis'"
   ]
  },
  {
   "cell_type": "markdown",
   "id": "4e47775b",
   "metadata": {},
   "source": [
    "#### #1 import data"
   ]
  },
  {
   "cell_type": "code",
   "execution_count": 3,
   "id": "8011e0aa",
   "metadata": {},
   "outputs": [],
   "source": [
    "df = pd.read_pickle(os.path.join(path, '02 Data', 'Prepared Data', 'orders_products_all.pkl'))"
   ]
  },
  {
   "cell_type": "markdown",
   "id": "84aba2f3",
   "metadata": {},
   "source": [
    "#### #2 Security implications "
   ]
  },
  {
   "cell_type": "code",
   "execution_count": 7,
   "id": "5a233898",
   "metadata": {},
   "outputs": [
    {
     "data": {
      "text/plain": [
       "Index(['user_id', 'first_name', 'last_name', 'Gender', 'STATE', 'Age',\n",
       "       'date_joined', 'n_dependants', 'fam_status', 'income', 'order_id',\n",
       "       'order_number', 'orders_day_of_week', 'hour_order_placed',\n",
       "       'days_since_prior_order', 'product_id', 'add_to_cart_order',\n",
       "       'reordered', '_merge', 'product_name', 'aisle_id', 'department_id',\n",
       "       'prices', '_exist', 'price_range_loc', 'busiest_day',\n",
       "       'busiest_period_of_day', 'max_order', 'loyalty_flag', 'avg_price',\n",
       "       'spending_flag', 'med_dspo', 'frequency_flag'],\n",
       "      dtype='object')"
      ]
     },
     "execution_count": 7,
     "metadata": {},
     "output_type": "execute_result"
    }
   ],
   "source": [
    "df.columns"
   ]
  },
  {
   "cell_type": "markdown",
   "id": "9877877d",
   "metadata": {},
   "source": [
    "There are a number of columns in the data that is PII including first_name, last_name, gender, age, n_dependants, fam_status, income. If these were real customers, steps would need to be taken to ensure privacy for the customers. In fact, the first and last name is not likely significant to any analyses other than ensuring there are not duplicates, and therefore could be deleted or removed from the general dataset."
   ]
  },
  {
   "cell_type": "markdown",
   "id": "eaba7853",
   "metadata": {},
   "source": [
    "#### #3 Regional segmentation"
   ]
  },
  {
   "cell_type": "code",
   "execution_count": 21,
   "id": "fa9bdc9f",
   "metadata": {},
   "outputs": [],
   "source": [
    "#make region lists\n",
    "ne_list = ['Maine', 'New Hampshire', 'Vermont', 'Massachusetts', 'Rhode Island', 'Connecticut', 'New York', 'Pennsylvania', 'New Jersey']\n",
    "mw_list = ['Wisconsin', 'Michigan', 'Illinois', 'Indiana', 'Ohio', 'North Dakota', 'South Dakota', 'Nebraska', 'Kansas', 'Minnesota', 'Iowa', 'Missouri']\n",
    "so_list = ['Delaware', 'Maryland', 'District of Columbia', 'Virginia', 'West Virginia', 'North Carolina', 'South Carolina', 'Georgia', 'Florida', 'Kentucky', 'Tennessee', 'Mississippi', 'Alabama', 'Oklahoma', 'Texas', 'Arkansas', 'Louisiana']\n",
    "we_list = ['Idaho', 'Montana', 'Wyoming', 'Nevada', 'Utah', 'Colorado', 'Arizona', 'New Mexico', 'Alaska', 'Washington', 'Oregon', 'California', 'Hawaii']"
   ]
  },
  {
   "cell_type": "code",
   "execution_count": 22,
   "id": "5a1eea0f",
   "metadata": {},
   "outputs": [],
   "source": [
    "#create region column based on state\n",
    "#first, define a function\n",
    "def region_label(row):\n",
    "    if row['STATE'] in (ne_list):\n",
    "        return 'Northeast'\n",
    "    elif row['STATE'] in(mw_list):\n",
    "        return 'Midwest'\n",
    "    elif row['STATE'] in(so_list):\n",
    "        return 'South'\n",
    "    elif row['STATE'] in (we_list):\n",
    "        return 'West'\n",
    "    else:\n",
    "        return 'Unknown'"
   ]
  },
  {
   "cell_type": "code",
   "execution_count": 30,
   "id": "eadb8155",
   "metadata": {},
   "outputs": [],
   "source": [
    "df['Region'] = df.apply(region_label, axis = 1)"
   ]
  },
  {
   "cell_type": "code",
   "execution_count": 24,
   "id": "dd0a07c5",
   "metadata": {},
   "outputs": [],
   "source": [
    "#determine whether there's a difference in spending habits across regions\n",
    "#crosstab spending flag with region\n",
    "crosstab = pd.crosstab(df['spending_flag'], df['Region'], dropna=False)"
   ]
  },
  {
   "cell_type": "code",
   "execution_count": 25,
   "id": "6754c907",
   "metadata": {},
   "outputs": [],
   "source": [
    "#copy to clipboard\n",
    "crosstab.to_clipboard()"
   ]
  },
  {
   "cell_type": "code",
   "execution_count": 26,
   "id": "5d07826d",
   "metadata": {},
   "outputs": [
    {
     "data": {
      "text/plain": [
       "Low spender     31770614\n",
       "High spender      634245\n",
       "Name: spending_flag, dtype: int64"
      ]
     },
     "execution_count": 26,
     "metadata": {},
     "output_type": "execute_result"
    }
   ],
   "source": [
    "df['spending_flag'].value_counts(dropna=False)"
   ]
  },
  {
   "cell_type": "markdown",
   "id": "79da3235",
   "metadata": {},
   "source": [
    "Results: after viewing the summary in Excel and visualizing with a stacked bar chart, there is no significant difference in spending habits among regions. In every region, the high spenders make up about 2% of the population."
   ]
  },
  {
   "cell_type": "markdown",
   "id": "e3eca6c8",
   "metadata": {},
   "source": [
    "#### #4 Exclude low-activity customers"
   ]
  },
  {
   "cell_type": "code",
   "execution_count": 67,
   "id": "7ea24fd9",
   "metadata": {},
   "outputs": [],
   "source": [
    "df = df.drop(df[df.order_number <5].index)"
   ]
  },
  {
   "cell_type": "code",
   "execution_count": 6,
   "id": "7265e7c6",
   "metadata": {},
   "outputs": [
    {
     "data": {
      "text/plain": [
       "(32404859, 33)"
      ]
     },
     "execution_count": 6,
     "metadata": {},
     "output_type": "execute_result"
    }
   ],
   "source": [
    "df.shape"
   ]
  },
  {
   "cell_type": "markdown",
   "id": "2a4f6abd",
   "metadata": {},
   "source": [
    "Successful - decreased number of rows"
   ]
  },
  {
   "cell_type": "code",
   "execution_count": 33,
   "id": "189ba52f",
   "metadata": {},
   "outputs": [],
   "source": [
    "#export\n",
    "df.to_pickle(os.path.join(path, '02 Data', 'Prepared Data', 'orders_products_excluded_low_activity.pkl'))"
   ]
  },
  {
   "cell_type": "code",
   "execution_count": 8,
   "id": "1d34fd1a",
   "metadata": {},
   "outputs": [],
   "source": [
    "df = pd.read_pickle(os.path.join(path, '02 Data', 'Prepared Data', 'orders_products_excluded_low_activity.pkl'))\n",
    "#delete at end!"
   ]
  },
  {
   "cell_type": "code",
   "execution_count": 9,
   "id": "405a6aea",
   "metadata": {},
   "outputs": [
    {
     "data": {
      "text/plain": [
       "Index(['user_id', 'first_name', 'last_name', 'Gender', 'STATE', 'Age',\n",
       "       'date_joined', 'n_dependants', 'fam_status', 'income', 'order_id',\n",
       "       'order_number', 'orders_day_of_week', 'hour_order_placed',\n",
       "       'days_since_prior_order', 'product_id', 'add_to_cart_order',\n",
       "       'reordered', '_merge', 'product_name', 'aisle_id', 'department_id',\n",
       "       'prices', '_exist', 'price_range_loc', 'busiest_day',\n",
       "       'busiest_period_of_day', 'max_order', 'loyalty_flag', 'avg_price',\n",
       "       'spending_flag', 'med_dspo', 'frequency_flag', 'Region', 'pet_flag',\n",
       "       'parent_flag', 'age_flag', 'income_flag', 'cust_profile'],\n",
       "      dtype='object')"
      ]
     },
     "execution_count": 9,
     "metadata": {},
     "output_type": "execute_result"
    }
   ],
   "source": [
    "df.columns"
   ]
  },
  {
   "cell_type": "markdown",
   "id": "179d85c7",
   "metadata": {},
   "source": [
    "#### #5 Customer Profiling"
   ]
  },
  {
   "cell_type": "code",
   "execution_count": 4,
   "id": "2e4fe6bf",
   "metadata": {},
   "outputs": [],
   "source": [
    "def age_label(row):\n",
    "    if row['Age']<30:\n",
    "        return 'Young '\n",
    "    elif row ['Age']>60:\n",
    "        return 'Older '\n",
    "    else:\n",
    "        return 'Middle-aged '"
   ]
  },
  {
   "cell_type": "code",
   "execution_count": 20,
   "id": "4a928762",
   "metadata": {},
   "outputs": [],
   "source": [
    "def income_label(row):\n",
    "    if row['income']<40000:\n",
    "        return 'Low-income '\n",
    "    elif row['income']>115000:\n",
    "        return 'Upper-income '\n",
    "    else:\n",
    "        return 'Middle-income '"
   ]
  },
  {
   "cell_type": "code",
   "execution_count": 7,
   "id": "d03ce81f",
   "metadata": {},
   "outputs": [],
   "source": [
    "df.loc[df['n_dependants']>=1, 'parent_flag'] = 'Parent '"
   ]
  },
  {
   "cell_type": "code",
   "execution_count": 40,
   "id": "c061f5aa",
   "metadata": {},
   "outputs": [],
   "source": [
    "df.loc[df['n_dependants']==0, 'parent_flag'] = 'Non-Parent '"
   ]
  },
  {
   "cell_type": "code",
   "execution_count": 8,
   "id": "e0993dff",
   "metadata": {},
   "outputs": [],
   "source": [
    "df['age_flag']=df.apply(age_label, axis=1)"
   ]
  },
  {
   "cell_type": "code",
   "execution_count": 37,
   "id": "c2cd9d62",
   "metadata": {},
   "outputs": [],
   "source": [
    "df['income_flag']=df.apply(income_label, axis=1)"
   ]
  },
  {
   "cell_type": "code",
   "execution_count": 41,
   "id": "bbb1be25",
   "metadata": {},
   "outputs": [],
   "source": [
    "df['cust_profile']=df['age_flag']+df['income_flag']+df['parent_flag']"
   ]
  },
  {
   "cell_type": "code",
   "execution_count": 42,
   "id": "b72e16d9",
   "metadata": {},
   "outputs": [
    {
     "data": {
      "text/plain": [
       "Middle-aged Middle-income Parent         5457235\n",
       "Young Middle-income Parent               3166681\n",
       "Older Upper-income Parent                3081377\n",
       "Middle-aged Upper-income Parent          2988610\n",
       "Older Middle-income Parent               2641182\n",
       "Middle-aged Middle-income Non-Parent     1798899\n",
       "Young Middle-income Non-Parent           1046088\n",
       "Older Upper-income Non-Parent            1031549\n",
       "Middle-aged Upper-income Non-Parent      1016051\n",
       "Older Middle-income Non-Parent            886852\n",
       "Middle-aged Low-income Parent             443764\n",
       "Older Low-income Parent                   245505\n",
       "Young Low-income Parent                   236590\n",
       "Middle-aged Low-income Non-Parent         151199\n",
       "Older Low-income Non-Parent                82394\n",
       "Young Low-income Non-Parent                80400\n",
       "Young Upper-income Parent                  48931\n",
       "Young Upper-income Non-Parent              11570\n",
       "Name: cust_profile, dtype: int64"
      ]
     },
     "execution_count": 42,
     "metadata": {},
     "output_type": "execute_result"
    }
   ],
   "source": [
    "df['cust_profile'].value_counts(dropna=False)"
   ]
  },
  {
   "cell_type": "markdown",
   "id": "fdc125c5",
   "metadata": {},
   "source": [
    "#### #6 Visualize customer profile distribution"
   ]
  },
  {
   "cell_type": "code",
   "execution_count": 108,
   "id": "04fb2138",
   "metadata": {
    "scrolled": true
   },
   "outputs": [
    {
     "data": {
      "image/png": "[encoded data removed]",
      "text/plain": [
       "<Figure size 640x480 with 1 Axes>"
      ]
     },
     "metadata": {},
     "output_type": "display_data"
    }
   ],
   "source": [
    "prof_bar = df['cust_profile'].value_counts(dropna=False, ascending=True).plot.barh()"
   ]
  },
  {
   "cell_type": "code",
   "execution_count": 109,
   "id": "cd580fd0",
   "metadata": {},
   "outputs": [],
   "source": [
    "prof_bar.figure.savefig(os.path.join(path, '04 Analysis', 'Visualizations', 'profiles_bar.png'))"
   ]
  },
  {
   "cell_type": "markdown",
   "id": "addd2fcf",
   "metadata": {},
   "source": [
    "#### #7 Aggregate summary statistics for customer profiles"
   ]
  },
  {
   "cell_type": "code",
   "execution_count": 64,
   "id": "7560a9d9",
   "metadata": {},
   "outputs": [
    {
     "data": {
      "text/html": [
       "<div>\n",
       "<style scoped>\n",
       "    .dataframe tbody tr th:only-of-type {\n",
       "        vertical-align: middle;\n",
       "    }\n",
       "\n",
       "    .dataframe tbody tr th {\n",
       "        vertical-align: top;\n",
       "    }\n",
       "\n",
       "    .dataframe thead tr th {\n",
       "        text-align: left;\n",
       "    }\n",
       "\n",
       "    .dataframe thead tr:last-of-type th {\n",
       "        text-align: right;\n",
       "    }\n",
       "</style>\n",
       "<table border=\"1\" class=\"dataframe\">\n",
       "  <thead>\n",
       "    <tr>\n",
       "      <th></th>\n",
       "      <th colspan=\"3\" halign=\"left\">days_since_prior_order</th>\n",
       "      <th colspan=\"3\" halign=\"left\">prices</th>\n",
       "    </tr>\n",
       "    <tr>\n",
       "      <th></th>\n",
       "      <th>max</th>\n",
       "      <th>mean</th>\n",
       "      <th>min</th>\n",
       "      <th>max</th>\n",
       "      <th>mean</th>\n",
       "      <th>min</th>\n",
       "    </tr>\n",
       "    <tr>\n",
       "      <th>cust_profile</th>\n",
       "      <th></th>\n",
       "      <th></th>\n",
       "      <th></th>\n",
       "      <th></th>\n",
       "      <th></th>\n",
       "      <th></th>\n",
       "    </tr>\n",
       "  </thead>\n",
       "  <tbody>\n",
       "    <tr>\n",
       "      <th>Middle-aged Low-income Non-Parent</th>\n",
       "      <td>30.0</td>\n",
       "      <td>10.412324</td>\n",
       "      <td>0.0</td>\n",
       "      <td>25.0</td>\n",
       "      <td>6.493856</td>\n",
       "      <td>1.0</td>\n",
       "    </tr>\n",
       "    <tr>\n",
       "      <th>Middle-aged Low-income Parent</th>\n",
       "      <td>30.0</td>\n",
       "      <td>10.502039</td>\n",
       "      <td>0.0</td>\n",
       "      <td>25.0</td>\n",
       "      <td>6.503885</td>\n",
       "      <td>1.0</td>\n",
       "    </tr>\n",
       "    <tr>\n",
       "      <th>Middle-aged Middle-income Non-Parent</th>\n",
       "      <td>30.0</td>\n",
       "      <td>10.039743</td>\n",
       "      <td>0.0</td>\n",
       "      <td>25.0</td>\n",
       "      <td>7.815079</td>\n",
       "      <td>1.0</td>\n",
       "    </tr>\n",
       "    <tr>\n",
       "      <th>Middle-aged Middle-income Parent</th>\n",
       "      <td>30.0</td>\n",
       "      <td>10.068038</td>\n",
       "      <td>0.0</td>\n",
       "      <td>25.0</td>\n",
       "      <td>7.808700</td>\n",
       "      <td>1.0</td>\n",
       "    </tr>\n",
       "    <tr>\n",
       "      <th>Middle-aged Upper-income Non-Parent</th>\n",
       "      <td>30.0</td>\n",
       "      <td>9.967797</td>\n",
       "      <td>0.0</td>\n",
       "      <td>25.0</td>\n",
       "      <td>7.938985</td>\n",
       "      <td>1.0</td>\n",
       "    </tr>\n",
       "    <tr>\n",
       "      <th>Middle-aged Upper-income Parent</th>\n",
       "      <td>30.0</td>\n",
       "      <td>10.115885</td>\n",
       "      <td>0.0</td>\n",
       "      <td>25.0</td>\n",
       "      <td>7.947646</td>\n",
       "      <td>1.0</td>\n",
       "    </tr>\n",
       "    <tr>\n",
       "      <th>Older Low-income Non-Parent</th>\n",
       "      <td>30.0</td>\n",
       "      <td>9.997864</td>\n",
       "      <td>0.0</td>\n",
       "      <td>25.0</td>\n",
       "      <td>6.535935</td>\n",
       "      <td>1.0</td>\n",
       "    </tr>\n",
       "    <tr>\n",
       "      <th>Older Low-income Parent</th>\n",
       "      <td>30.0</td>\n",
       "      <td>10.608032</td>\n",
       "      <td>0.0</td>\n",
       "      <td>25.0</td>\n",
       "      <td>6.521951</td>\n",
       "      <td>1.0</td>\n",
       "    </tr>\n",
       "    <tr>\n",
       "      <th>Older Middle-income Non-Parent</th>\n",
       "      <td>30.0</td>\n",
       "      <td>10.093866</td>\n",
       "      <td>0.0</td>\n",
       "      <td>25.0</td>\n",
       "      <td>7.748867</td>\n",
       "      <td>1.0</td>\n",
       "    </tr>\n",
       "    <tr>\n",
       "      <th>Older Middle-income Parent</th>\n",
       "      <td>30.0</td>\n",
       "      <td>10.134555</td>\n",
       "      <td>0.0</td>\n",
       "      <td>25.0</td>\n",
       "      <td>7.724127</td>\n",
       "      <td>1.0</td>\n",
       "    </tr>\n",
       "    <tr>\n",
       "      <th>Older Upper-income Non-Parent</th>\n",
       "      <td>30.0</td>\n",
       "      <td>9.975899</td>\n",
       "      <td>0.0</td>\n",
       "      <td>25.0</td>\n",
       "      <td>7.947230</td>\n",
       "      <td>1.0</td>\n",
       "    </tr>\n",
       "    <tr>\n",
       "      <th>Older Upper-income Parent</th>\n",
       "      <td>30.0</td>\n",
       "      <td>10.004012</td>\n",
       "      <td>0.0</td>\n",
       "      <td>25.0</td>\n",
       "      <td>7.955901</td>\n",
       "      <td>1.0</td>\n",
       "    </tr>\n",
       "    <tr>\n",
       "      <th>Young Low-income Non-Parent</th>\n",
       "      <td>30.0</td>\n",
       "      <td>10.649030</td>\n",
       "      <td>0.0</td>\n",
       "      <td>25.0</td>\n",
       "      <td>6.484073</td>\n",
       "      <td>1.0</td>\n",
       "    </tr>\n",
       "    <tr>\n",
       "      <th>Young Low-income Parent</th>\n",
       "      <td>30.0</td>\n",
       "      <td>10.390524</td>\n",
       "      <td>0.0</td>\n",
       "      <td>25.0</td>\n",
       "      <td>6.492751</td>\n",
       "      <td>1.0</td>\n",
       "    </tr>\n",
       "    <tr>\n",
       "      <th>Young Middle-income Non-Parent</th>\n",
       "      <td>30.0</td>\n",
       "      <td>10.169232</td>\n",
       "      <td>0.0</td>\n",
       "      <td>25.0</td>\n",
       "      <td>7.873993</td>\n",
       "      <td>1.0</td>\n",
       "    </tr>\n",
       "    <tr>\n",
       "      <th>Young Middle-income Parent</th>\n",
       "      <td>30.0</td>\n",
       "      <td>10.055143</td>\n",
       "      <td>0.0</td>\n",
       "      <td>25.0</td>\n",
       "      <td>7.881358</td>\n",
       "      <td>1.0</td>\n",
       "    </tr>\n",
       "    <tr>\n",
       "      <th>Young Upper-income Non-Parent</th>\n",
       "      <td>30.0</td>\n",
       "      <td>9.954105</td>\n",
       "      <td>0.0</td>\n",
       "      <td>25.0</td>\n",
       "      <td>7.821661</td>\n",
       "      <td>1.0</td>\n",
       "    </tr>\n",
       "    <tr>\n",
       "      <th>Young Upper-income Parent</th>\n",
       "      <td>30.0</td>\n",
       "      <td>9.356522</td>\n",
       "      <td>0.0</td>\n",
       "      <td>25.0</td>\n",
       "      <td>7.789210</td>\n",
       "      <td>1.0</td>\n",
       "    </tr>\n",
       "  </tbody>\n",
       "</table>\n",
       "</div>"
      ],
      "text/plain": [
       "                                      days_since_prior_order                  \\\n",
       "                                                         max       mean  min   \n",
       "cust_profile                                                                   \n",
       "Middle-aged Low-income Non-Parent                       30.0  10.412324  0.0   \n",
       "Middle-aged Low-income Parent                           30.0  10.502039  0.0   \n",
       "Middle-aged Middle-income Non-Parent                    30.0  10.039743  0.0   \n",
       "Middle-aged Middle-income Parent                        30.0  10.068038  0.0   \n",
       "Middle-aged Upper-income Non-Parent                     30.0   9.967797  0.0   \n",
       "Middle-aged Upper-income Parent                         30.0  10.115885  0.0   \n",
       "Older Low-income Non-Parent                             30.0   9.997864  0.0   \n",
       "Older Low-income Parent                                 30.0  10.608032  0.0   \n",
       "Older Middle-income Non-Parent                          30.0  10.093866  0.0   \n",
       "Older Middle-income Parent                              30.0  10.134555  0.0   \n",
       "Older Upper-income Non-Parent                           30.0   9.975899  0.0   \n",
       "Older Upper-income Parent                               30.0  10.004012  0.0   \n",
       "Young Low-income Non-Parent                             30.0  10.649030  0.0   \n",
       "Young Low-income Parent                                 30.0  10.390524  0.0   \n",
       "Young Middle-income Non-Parent                          30.0  10.169232  0.0   \n",
       "Young Middle-income Parent                              30.0  10.055143  0.0   \n",
       "Young Upper-income Non-Parent                           30.0   9.954105  0.0   \n",
       "Young Upper-income Parent                               30.0   9.356522  0.0   \n",
       "\n",
       "                                      prices                 \n",
       "                                         max      mean  min  \n",
       "cust_profile                                                 \n",
       "Middle-aged Low-income Non-Parent       25.0  6.493856  1.0  \n",
       "Middle-aged Low-income Parent           25.0  6.503885  1.0  \n",
       "Middle-aged Middle-income Non-Parent    25.0  7.815079  1.0  \n",
       "Middle-aged Middle-income Parent        25.0  7.808700  1.0  \n",
       "Middle-aged Upper-income Non-Parent     25.0  7.938985  1.0  \n",
       "Middle-aged Upper-income Parent         25.0  7.947646  1.0  \n",
       "Older Low-income Non-Parent             25.0  6.535935  1.0  \n",
       "Older Low-income Parent                 25.0  6.521951  1.0  \n",
       "Older Middle-income Non-Parent          25.0  7.748867  1.0  \n",
       "Older Middle-income Parent              25.0  7.724127  1.0  \n",
       "Older Upper-income Non-Parent           25.0  7.947230  1.0  \n",
       "Older Upper-income Parent               25.0  7.955901  1.0  \n",
       "Young Low-income Non-Parent             25.0  6.484073  1.0  \n",
       "Young Low-income Parent                 25.0  6.492751  1.0  \n",
       "Young Middle-income Non-Parent          25.0  7.873993  1.0  \n",
       "Young Middle-income Parent              25.0  7.881358  1.0  \n",
       "Young Upper-income Non-Parent           25.0  7.821661  1.0  \n",
       "Young Upper-income Parent               25.0  7.789210  1.0  "
      ]
     },
     "execution_count": 64,
     "metadata": {},
     "output_type": "execute_result"
    }
   ],
   "source": [
    "df.groupby('cust_profile').agg({'days_since_prior_order':['max', 'mean', 'min'], 'prices':['max', 'mean', 'min']})"
   ]
  },
  {
   "cell_type": "markdown",
   "id": "32190b34",
   "metadata": {},
   "source": [
    "#### #8 Compare profiles with regions and departments"
   ]
  },
  {
   "cell_type": "code",
   "execution_count": 97,
   "id": "74a30b70",
   "metadata": {},
   "outputs": [
    {
     "data": {
      "text/html": [
       "<div>\n",
       "<style scoped>\n",
       "    .dataframe tbody tr th:only-of-type {\n",
       "        vertical-align: middle;\n",
       "    }\n",
       "\n",
       "    .dataframe tbody tr th {\n",
       "        vertical-align: top;\n",
       "    }\n",
       "\n",
       "    .dataframe thead th {\n",
       "        text-align: right;\n",
       "    }\n",
       "</style>\n",
       "<table border=\"1\" class=\"dataframe\">\n",
       "  <thead>\n",
       "    <tr style=\"text-align: right;\">\n",
       "      <th></th>\n",
       "      <th>user_id</th>\n",
       "      <th>first_name</th>\n",
       "      <th>last_name</th>\n",
       "      <th>Gender</th>\n",
       "      <th>STATE</th>\n",
       "      <th>Age</th>\n",
       "      <th>date_joined</th>\n",
       "      <th>n_dependants</th>\n",
       "      <th>fam_status</th>\n",
       "      <th>income</th>\n",
       "      <th>...</th>\n",
       "      <th>avg_price</th>\n",
       "      <th>spending_flag</th>\n",
       "      <th>med_dspo</th>\n",
       "      <th>frequency_flag</th>\n",
       "      <th>Region</th>\n",
       "      <th>pet_flag</th>\n",
       "      <th>parent_flag</th>\n",
       "      <th>age_flag</th>\n",
       "      <th>income_flag</th>\n",
       "      <th>cust_profile</th>\n",
       "    </tr>\n",
       "  </thead>\n",
       "  <tbody>\n",
       "    <tr>\n",
       "      <th>0</th>\n",
       "      <td>26711</td>\n",
       "      <td>Deborah</td>\n",
       "      <td>Esquivel</td>\n",
       "      <td>Female</td>\n",
       "      <td>Missouri</td>\n",
       "      <td>48</td>\n",
       "      <td>1/1/2017</td>\n",
       "      <td>3</td>\n",
       "      <td>married</td>\n",
       "      <td>165665</td>\n",
       "      <td>...</td>\n",
       "      <td>7.988889</td>\n",
       "      <td>Low spender</td>\n",
       "      <td>19.0</td>\n",
       "      <td>Regular customer</td>\n",
       "      <td>Midwest</td>\n",
       "      <td>NaN</td>\n",
       "      <td>Parent</td>\n",
       "      <td>Middle-aged</td>\n",
       "      <td>Upper-income</td>\n",
       "      <td>Middle-aged Upper-income Parent</td>\n",
       "    </tr>\n",
       "    <tr>\n",
       "      <th>1</th>\n",
       "      <td>26711</td>\n",
       "      <td>Deborah</td>\n",
       "      <td>Esquivel</td>\n",
       "      <td>Female</td>\n",
       "      <td>Missouri</td>\n",
       "      <td>48</td>\n",
       "      <td>1/1/2017</td>\n",
       "      <td>3</td>\n",
       "      <td>married</td>\n",
       "      <td>165665</td>\n",
       "      <td>...</td>\n",
       "      <td>7.988889</td>\n",
       "      <td>Low spender</td>\n",
       "      <td>19.0</td>\n",
       "      <td>Regular customer</td>\n",
       "      <td>Midwest</td>\n",
       "      <td>NaN</td>\n",
       "      <td>Parent</td>\n",
       "      <td>Middle-aged</td>\n",
       "      <td>Upper-income</td>\n",
       "      <td>Middle-aged Upper-income Parent</td>\n",
       "    </tr>\n",
       "    <tr>\n",
       "      <th>2</th>\n",
       "      <td>26711</td>\n",
       "      <td>Deborah</td>\n",
       "      <td>Esquivel</td>\n",
       "      <td>Female</td>\n",
       "      <td>Missouri</td>\n",
       "      <td>48</td>\n",
       "      <td>1/1/2017</td>\n",
       "      <td>3</td>\n",
       "      <td>married</td>\n",
       "      <td>165665</td>\n",
       "      <td>...</td>\n",
       "      <td>7.988889</td>\n",
       "      <td>Low spender</td>\n",
       "      <td>19.0</td>\n",
       "      <td>Regular customer</td>\n",
       "      <td>Midwest</td>\n",
       "      <td>NaN</td>\n",
       "      <td>Parent</td>\n",
       "      <td>Middle-aged</td>\n",
       "      <td>Upper-income</td>\n",
       "      <td>Middle-aged Upper-income Parent</td>\n",
       "    </tr>\n",
       "    <tr>\n",
       "      <th>6</th>\n",
       "      <td>26711</td>\n",
       "      <td>Deborah</td>\n",
       "      <td>Esquivel</td>\n",
       "      <td>Female</td>\n",
       "      <td>Missouri</td>\n",
       "      <td>48</td>\n",
       "      <td>1/1/2017</td>\n",
       "      <td>3</td>\n",
       "      <td>married</td>\n",
       "      <td>165665</td>\n",
       "      <td>...</td>\n",
       "      <td>7.988889</td>\n",
       "      <td>Low spender</td>\n",
       "      <td>19.0</td>\n",
       "      <td>Regular customer</td>\n",
       "      <td>Midwest</td>\n",
       "      <td>NaN</td>\n",
       "      <td>Parent</td>\n",
       "      <td>Middle-aged</td>\n",
       "      <td>Upper-income</td>\n",
       "      <td>Middle-aged Upper-income Parent</td>\n",
       "    </tr>\n",
       "    <tr>\n",
       "      <th>7</th>\n",
       "      <td>26711</td>\n",
       "      <td>Deborah</td>\n",
       "      <td>Esquivel</td>\n",
       "      <td>Female</td>\n",
       "      <td>Missouri</td>\n",
       "      <td>48</td>\n",
       "      <td>1/1/2017</td>\n",
       "      <td>3</td>\n",
       "      <td>married</td>\n",
       "      <td>165665</td>\n",
       "      <td>...</td>\n",
       "      <td>7.988889</td>\n",
       "      <td>Low spender</td>\n",
       "      <td>19.0</td>\n",
       "      <td>Regular customer</td>\n",
       "      <td>Midwest</td>\n",
       "      <td>NaN</td>\n",
       "      <td>Parent</td>\n",
       "      <td>Middle-aged</td>\n",
       "      <td>Upper-income</td>\n",
       "      <td>Middle-aged Upper-income Parent</td>\n",
       "    </tr>\n",
       "  </tbody>\n",
       "</table>\n",
       "<p>5 rows × 39 columns</p>\n",
       "</div>"
      ],
      "text/plain": [
       "  user_id first_name last_name  Gender     STATE  Age date_joined  \\\n",
       "0   26711    Deborah  Esquivel  Female  Missouri   48    1/1/2017   \n",
       "1   26711    Deborah  Esquivel  Female  Missouri   48    1/1/2017   \n",
       "2   26711    Deborah  Esquivel  Female  Missouri   48    1/1/2017   \n",
       "6   26711    Deborah  Esquivel  Female  Missouri   48    1/1/2017   \n",
       "7   26711    Deborah  Esquivel  Female  Missouri   48    1/1/2017   \n",
       "\n",
       "   n_dependants fam_status  income  ...  avg_price  spending_flag  med_dspo  \\\n",
       "0             3    married  165665  ...   7.988889    Low spender      19.0   \n",
       "1             3    married  165665  ...   7.988889    Low spender      19.0   \n",
       "2             3    married  165665  ...   7.988889    Low spender      19.0   \n",
       "6             3    married  165665  ...   7.988889    Low spender      19.0   \n",
       "7             3    married  165665  ...   7.988889    Low spender      19.0   \n",
       "\n",
       "     frequency_flag   Region  pet_flag  parent_flag      age_flag  \\\n",
       "0  Regular customer  Midwest       NaN      Parent   Middle-aged    \n",
       "1  Regular customer  Midwest       NaN      Parent   Middle-aged    \n",
       "2  Regular customer  Midwest       NaN      Parent   Middle-aged    \n",
       "6  Regular customer  Midwest       NaN      Parent   Middle-aged    \n",
       "7  Regular customer  Midwest       NaN      Parent   Middle-aged    \n",
       "\n",
       "     income_flag                      cust_profile  \n",
       "0  Upper-income   Middle-aged Upper-income Parent   \n",
       "1  Upper-income   Middle-aged Upper-income Parent   \n",
       "2  Upper-income   Middle-aged Upper-income Parent   \n",
       "6  Upper-income   Middle-aged Upper-income Parent   \n",
       "7  Upper-income   Middle-aged Upper-income Parent   \n",
       "\n",
       "[5 rows x 39 columns]"
      ]
     },
     "execution_count": 97,
     "metadata": {},
     "output_type": "execute_result"
    }
   ],
   "source": [
    "df.head()"
   ]
  },
  {
   "cell_type": "code",
   "execution_count": 78,
   "id": "cadb5280",
   "metadata": {},
   "outputs": [],
   "source": [
    "reg_dep = pd.crosstab(df['department_id'], df['Region'], dropna=False)"
   ]
  },
  {
   "cell_type": "code",
   "execution_count": 72,
   "id": "91cbf617",
   "metadata": {},
   "outputs": [
    {
     "data": {
      "text/html": [
       "<div>\n",
       "<style scoped>\n",
       "    .dataframe tbody tr th:only-of-type {\n",
       "        vertical-align: middle;\n",
       "    }\n",
       "\n",
       "    .dataframe tbody tr th {\n",
       "        vertical-align: top;\n",
       "    }\n",
       "\n",
       "    .dataframe thead th {\n",
       "        text-align: right;\n",
       "    }\n",
       "</style>\n",
       "<table border=\"1\" class=\"dataframe\">\n",
       "  <thead>\n",
       "    <tr style=\"text-align: right;\">\n",
       "      <th>Region</th>\n",
       "      <th>Midwest</th>\n",
       "      <th>Northeast</th>\n",
       "      <th>South</th>\n",
       "      <th>West</th>\n",
       "    </tr>\n",
       "    <tr>\n",
       "      <th>department_id</th>\n",
       "      <th></th>\n",
       "      <th></th>\n",
       "      <th></th>\n",
       "      <th></th>\n",
       "    </tr>\n",
       "  </thead>\n",
       "  <tbody>\n",
       "    <tr>\n",
       "      <th>1</th>\n",
       "      <td>381094</td>\n",
       "      <td>283259</td>\n",
       "      <td>545809</td>\n",
       "      <td>417452</td>\n",
       "    </tr>\n",
       "    <tr>\n",
       "      <th>2</th>\n",
       "      <td>6284</td>\n",
       "      <td>4932</td>\n",
       "      <td>9200</td>\n",
       "      <td>6750</td>\n",
       "    </tr>\n",
       "    <tr>\n",
       "      <th>3</th>\n",
       "      <td>205374</td>\n",
       "      <td>157635</td>\n",
       "      <td>292772</td>\n",
       "      <td>227549</td>\n",
       "    </tr>\n",
       "    <tr>\n",
       "      <th>4</th>\n",
       "      <td>1695851</td>\n",
       "      <td>1269360</td>\n",
       "      <td>2409221</td>\n",
       "      <td>1852659</td>\n",
       "    </tr>\n",
       "    <tr>\n",
       "      <th>5</th>\n",
       "      <td>25567</td>\n",
       "      <td>18534</td>\n",
       "      <td>36253</td>\n",
       "      <td>27618</td>\n",
       "    </tr>\n",
       "    <tr>\n",
       "      <th>6</th>\n",
       "      <td>46607</td>\n",
       "      <td>34491</td>\n",
       "      <td>65417</td>\n",
       "      <td>51385</td>\n",
       "    </tr>\n",
       "    <tr>\n",
       "      <th>7</th>\n",
       "      <td>472243</td>\n",
       "      <td>367868</td>\n",
       "      <td>680594</td>\n",
       "      <td>515742</td>\n",
       "    </tr>\n",
       "    <tr>\n",
       "      <th>8</th>\n",
       "      <td>16481</td>\n",
       "      <td>14080</td>\n",
       "      <td>23012</td>\n",
       "      <td>18538</td>\n",
       "    </tr>\n",
       "    <tr>\n",
       "      <th>9</th>\n",
       "      <td>148529</td>\n",
       "      <td>110708</td>\n",
       "      <td>210680</td>\n",
       "      <td>163808</td>\n",
       "    </tr>\n",
       "    <tr>\n",
       "      <th>10</th>\n",
       "      <td>6488</td>\n",
       "      <td>4598</td>\n",
       "      <td>9184</td>\n",
       "      <td>7288</td>\n",
       "    </tr>\n",
       "    <tr>\n",
       "      <th>11</th>\n",
       "      <td>77792</td>\n",
       "      <td>57861</td>\n",
       "      <td>110474</td>\n",
       "      <td>82353</td>\n",
       "    </tr>\n",
       "    <tr>\n",
       "      <th>12</th>\n",
       "      <td>122137</td>\n",
       "      <td>92309</td>\n",
       "      <td>173933</td>\n",
       "      <td>135511</td>\n",
       "    </tr>\n",
       "    <tr>\n",
       "      <th>13</th>\n",
       "      <td>326376</td>\n",
       "      <td>243728</td>\n",
       "      <td>458526</td>\n",
       "      <td>356745</td>\n",
       "    </tr>\n",
       "    <tr>\n",
       "      <th>14</th>\n",
       "      <td>121761</td>\n",
       "      <td>92657</td>\n",
       "      <td>174421</td>\n",
       "      <td>136106</td>\n",
       "    </tr>\n",
       "    <tr>\n",
       "      <th>15</th>\n",
       "      <td>184194</td>\n",
       "      <td>137950</td>\n",
       "      <td>263145</td>\n",
       "      <td>202501</td>\n",
       "    </tr>\n",
       "    <tr>\n",
       "      <th>16</th>\n",
       "      <td>962300</td>\n",
       "      <td>729754</td>\n",
       "      <td>1371620</td>\n",
       "      <td>1056814</td>\n",
       "    </tr>\n",
       "    <tr>\n",
       "      <th>17</th>\n",
       "      <td>128464</td>\n",
       "      <td>96427</td>\n",
       "      <td>176971</td>\n",
       "      <td>137487</td>\n",
       "    </tr>\n",
       "    <tr>\n",
       "      <th>18</th>\n",
       "      <td>78496</td>\n",
       "      <td>59555</td>\n",
       "      <td>113970</td>\n",
       "      <td>83926</td>\n",
       "    </tr>\n",
       "    <tr>\n",
       "      <th>19</th>\n",
       "      <td>509148</td>\n",
       "      <td>389733</td>\n",
       "      <td>724967</td>\n",
       "      <td>563273</td>\n",
       "    </tr>\n",
       "    <tr>\n",
       "      <th>20</th>\n",
       "      <td>182735</td>\n",
       "      <td>139553</td>\n",
       "      <td>259644</td>\n",
       "      <td>201079</td>\n",
       "    </tr>\n",
       "    <tr>\n",
       "      <th>21</th>\n",
       "      <td>13835</td>\n",
       "      <td>10279</td>\n",
       "      <td>19273</td>\n",
       "      <td>14180</td>\n",
       "    </tr>\n",
       "  </tbody>\n",
       "</table>\n",
       "</div>"
      ],
      "text/plain": [
       "Region         Midwest  Northeast    South     West\n",
       "department_id                                      \n",
       "1               381094     283259   545809   417452\n",
       "2                 6284       4932     9200     6750\n",
       "3               205374     157635   292772   227549\n",
       "4              1695851    1269360  2409221  1852659\n",
       "5                25567      18534    36253    27618\n",
       "6                46607      34491    65417    51385\n",
       "7               472243     367868   680594   515742\n",
       "8                16481      14080    23012    18538\n",
       "9               148529     110708   210680   163808\n",
       "10                6488       4598     9184     7288\n",
       "11               77792      57861   110474    82353\n",
       "12              122137      92309   173933   135511\n",
       "13              326376     243728   458526   356745\n",
       "14              121761      92657   174421   136106\n",
       "15              184194     137950   263145   202501\n",
       "16              962300     729754  1371620  1056814\n",
       "17              128464      96427   176971   137487\n",
       "18               78496      59555   113970    83926\n",
       "19              509148     389733   724967   563273\n",
       "20              182735     139553   259644   201079\n",
       "21               13835      10279    19273    14180"
      ]
     },
     "execution_count": 72,
     "metadata": {},
     "output_type": "execute_result"
    }
   ],
   "source": [
    "reg_dep"
   ]
  },
  {
   "cell_type": "code",
   "execution_count": 88,
   "id": "9bf5e69a",
   "metadata": {},
   "outputs": [
    {
     "data": {
      "text/plain": [
       "<function matplotlib.pyplot.legend(*args, **kwargs)>"
      ]
     },
     "execution_count": 88,
     "metadata": {},
     "output_type": "execute_result"
    },
    {
     "data": {
      "image/png": "[encoded data removed]",
      "text/plain": [
       "<Figure size 640x480 with 1 Axes>"
      ]
     },
     "metadata": {},
     "output_type": "display_data"
    }
   ],
   "source": [
    "reg_dep_bar = reg_dep.plot.barh(stacked=True)\n",
    "plt.legend"
   ]
  },
  {
   "cell_type": "code",
   "execution_count": 110,
   "id": "389fea73",
   "metadata": {},
   "outputs": [],
   "source": [
    "reg_dep_bar.figure.savefig(os.path.join(path, '04 Analysis', 'Visualizations', 'reg_dep_bar.png'))"
   ]
  },
  {
   "cell_type": "code",
   "execution_count": 87,
   "id": "936aa9a5",
   "metadata": {},
   "outputs": [
    {
     "data": {
      "text/html": [
       "<div>\n",
       "<style scoped>\n",
       "    .dataframe tbody tr th:only-of-type {\n",
       "        vertical-align: middle;\n",
       "    }\n",
       "\n",
       "    .dataframe tbody tr th {\n",
       "        vertical-align: top;\n",
       "    }\n",
       "\n",
       "    .dataframe thead tr th {\n",
       "        text-align: left;\n",
       "    }\n",
       "\n",
       "    .dataframe thead tr:last-of-type th {\n",
       "        text-align: right;\n",
       "    }\n",
       "</style>\n",
       "<table border=\"1\" class=\"dataframe\">\n",
       "  <thead>\n",
       "    <tr>\n",
       "      <th></th>\n",
       "      <th>order_number</th>\n",
       "      <th>prices</th>\n",
       "    </tr>\n",
       "    <tr>\n",
       "      <th></th>\n",
       "      <th>mean</th>\n",
       "      <th>mean</th>\n",
       "    </tr>\n",
       "    <tr>\n",
       "      <th>Region</th>\n",
       "      <th></th>\n",
       "      <th></th>\n",
       "    </tr>\n",
       "  </thead>\n",
       "  <tbody>\n",
       "    <tr>\n",
       "      <th>Midwest</th>\n",
       "      <td>21.702417</td>\n",
       "      <td>7.790719</td>\n",
       "    </tr>\n",
       "    <tr>\n",
       "      <th>Northeast</th>\n",
       "      <td>22.031923</td>\n",
       "      <td>7.781979</td>\n",
       "    </tr>\n",
       "    <tr>\n",
       "      <th>South</th>\n",
       "      <td>21.965822</td>\n",
       "      <td>7.795570</td>\n",
       "    </tr>\n",
       "    <tr>\n",
       "      <th>West</th>\n",
       "      <td>22.098505</td>\n",
       "      <td>7.790263</td>\n",
       "    </tr>\n",
       "  </tbody>\n",
       "</table>\n",
       "</div>"
      ],
      "text/plain": [
       "          order_number    prices\n",
       "                  mean      mean\n",
       "Region                          \n",
       "Midwest      21.702417  7.790719\n",
       "Northeast    22.031923  7.781979\n",
       "South        21.965822  7.795570\n",
       "West         22.098505  7.790263"
      ]
     },
     "execution_count": 87,
     "metadata": {},
     "output_type": "execute_result"
    }
   ],
   "source": [
    "df.groupby('Region').agg({'order_number':['mean'], 'prices':[ 'mean']})"
   ]
  },
  {
   "cell_type": "markdown",
   "id": "1ce31fe0",
   "metadata": {},
   "source": [
    "Very little difference in mean prices across regions. "
   ]
  },
  {
   "cell_type": "code",
   "execution_count": 91,
   "id": "3a2a66c6",
   "metadata": {},
   "outputs": [],
   "source": [
    "prof_dep = pd.crosstab(df['department_id'], df['parent_flag'], dropna=False)"
   ]
  },
  {
   "cell_type": "code",
   "execution_count": 92,
   "id": "a921ffd1",
   "metadata": {},
   "outputs": [
    {
     "data": {
      "text/plain": [
       "<function matplotlib.pyplot.legend(*args, **kwargs)>"
      ]
     },
     "execution_count": 92,
     "metadata": {},
     "output_type": "execute_result"
    },
    {
     "data": {
      "image/png": "[encoded data removed]",
      "text/plain": [
       "<Figure size 640x480 with 1 Axes>"
      ]
     },
     "metadata": {},
     "output_type": "display_data"
    }
   ],
   "source": [
    "prof_dep_bar = prof_dep.plot.barh(stacked=True)\n",
    "plt.legend"
   ]
  },
  {
   "cell_type": "code",
   "execution_count": 111,
   "id": "56661ea1",
   "metadata": {},
   "outputs": [],
   "source": [
    "prof_dep_bar.figure.savefig(os.path.join(path, '04 Analysis', 'Visualizations', 'prof_dep_bar.png'))"
   ]
  },
  {
   "cell_type": "code",
   "execution_count": 10,
   "id": "f7bec1e2",
   "metadata": {},
   "outputs": [],
   "source": [
    "age_freq = pd.crosstab(df['frequency_flag'], df['age_flag'], dropna=False)"
   ]
  },
  {
   "cell_type": "code",
   "execution_count": 106,
   "id": "605dd8fc",
   "metadata": {},
   "outputs": [
    {
     "data": {
      "text/html": [
       "<div>\n",
       "<style scoped>\n",
       "    .dataframe tbody tr th:only-of-type {\n",
       "        vertical-align: middle;\n",
       "    }\n",
       "\n",
       "    .dataframe tbody tr th {\n",
       "        vertical-align: top;\n",
       "    }\n",
       "\n",
       "    .dataframe thead th {\n",
       "        text-align: right;\n",
       "    }\n",
       "</style>\n",
       "<table border=\"1\" class=\"dataframe\">\n",
       "  <thead>\n",
       "    <tr style=\"text-align: right;\">\n",
       "      <th>age_flag</th>\n",
       "      <th>Middle-aged</th>\n",
       "      <th>Older</th>\n",
       "      <th>Young</th>\n",
       "    </tr>\n",
       "    <tr>\n",
       "      <th>frequency_flag</th>\n",
       "      <th></th>\n",
       "      <th></th>\n",
       "      <th></th>\n",
       "    </tr>\n",
       "  </thead>\n",
       "  <tbody>\n",
       "    <tr>\n",
       "      <th>Frequent customer</th>\n",
       "      <td>8785818</td>\n",
       "      <td>5935418</td>\n",
       "      <td>3415522</td>\n",
       "    </tr>\n",
       "    <tr>\n",
       "      <th>Non-frequent customer</th>\n",
       "      <td>712904</td>\n",
       "      <td>475461</td>\n",
       "      <td>275153</td>\n",
       "    </tr>\n",
       "    <tr>\n",
       "      <th>Regular customer</th>\n",
       "      <td>2357036</td>\n",
       "      <td>1557980</td>\n",
       "      <td>899585</td>\n",
       "    </tr>\n",
       "  </tbody>\n",
       "</table>\n",
       "</div>"
      ],
      "text/plain": [
       "age_flag               Middle-aged    Older    Young \n",
       "frequency_flag                                       \n",
       "Frequent customer           8785818  5935418  3415522\n",
       "Non-frequent customer        712904   475461   275153\n",
       "Regular customer            2357036  1557980   899585"
      ]
     },
     "execution_count": 106,
     "metadata": {},
     "output_type": "execute_result"
    }
   ],
   "source": [
    "age_freq"
   ]
  },
  {
   "cell_type": "code",
   "execution_count": 13,
   "id": "6f9e5f6a",
   "metadata": {},
   "outputs": [
    {
     "data": {
      "text/plain": [
       "(array([0, 1, 2]),\n",
       " [Text(0, 0, 'Frequent customer'),\n",
       "  Text(1, 0, 'Non-frequent customer'),\n",
       "  Text(2, 0, 'Regular customer')])"
      ]
     },
     "execution_count": 13,
     "metadata": {},
     "output_type": "execute_result"
    },
    {
     "data": {
      "image/png": "[encoded data removed]",
      "text/plain": [
       "<Figure size 640x480 with 1 Axes>"
      ]
     },
     "metadata": {},
     "output_type": "display_data"
    }
   ],
   "source": [
    "age_freq_bar = age_freq.plot.bar()\n",
    "plt.xticks(rotation=0)"
   ]
  },
  {
   "cell_type": "code",
   "execution_count": 14,
   "id": "ed7ee3b6",
   "metadata": {},
   "outputs": [],
   "source": [
    "age_freq_bar.figure.savefig(os.path.join(path, '04 Analysis', 'Visualizations', 'age_freq_bar.png'))"
   ]
  },
  {
   "cell_type": "code",
   "execution_count": null,
   "id": "0db286bc",
   "metadata": {},
   "outputs": [],
   "source": []
  }
 ],
 "metadata": {
  "kernelspec": {
   "display_name": "Python 3 (ipykernel)",
   "language": "python",
   "name": "python3"
  },
  "language_info": {
   "codemirror_mode": {
    "name": "ipython",
    "version": 3
   },
   "file_extension": ".py",
   "mimetype": "text/x-python",
   "name": "python",
   "nbconvert_exporter": "python",
   "pygments_lexer": "ipython3",
   "version": "3.11.3"
  }
 },
 "nbformat": 4,
 "nbformat_minor": 5
}
